{
  "nbformat": 4,
  "nbformat_minor": 0,
  "metadata": {
    "colab": {
      "provenance": [],
      "collapsed_sections": [
        "iQw5kMWA1Ciw"
      ],
      "include_colab_link": true
    },
    "kernelspec": {
      "name": "python3",
      "display_name": "Python 3"
    },
    "language_info": {
      "name": "python"
    }
  },
  "cells": [
    {
      "cell_type": "markdown",
      "metadata": {
        "id": "view-in-github",
        "colab_type": "text"
      },
      "source": [
        "<a href=\"https://colab.research.google.com/github/Didigodigo/Arquivos-legais/blob/main/exerc_cios_python_print_input_listas_dicion_rios.ipynb\" target=\"_parent\"><img src=\"https://colab.research.google.com/assets/colab-badge.svg\" alt=\"Open In Colab\"/></a>"
      ]
    },
    {
      "cell_type": "markdown",
      "source": [
        "# **Tipos de dados**"
      ],
      "metadata": {
        "id": "iQw5kMWA1Ciw"
      }
    },
    {
      "cell_type": "markdown",
      "source": [
        "# ***Classifique os tipos de dados das variáveis a seguir***"
      ],
      "metadata": {
        "id": "zzKoJhEX1J6M"
      }
    },
    {
      "cell_type": "markdown",
      "source": [
        "1. x = 5\n",
        "2. x = 5.0\n",
        "3. x = 5.5\n",
        "4. x = 'DNC'\n",
        "5. x = 1/2\n",
        "6. x = 0.5 * 2\n",
        "7. x = 2 ** 4\n",
        "8. x = 2+4\n",
        "9. x = 1000000000\n",
        "10. Peça para o usuário inputar um dado inteiro e confira o tipo dele\n",
        "11. Peça para o usuário inputar um dado float e confira o tipo dele\n",
        "12. Peça para o usuário inputar um dado string e confira o tipo dele\n",
        "13. Peça para o usuário inputar um dado sem definir o tipo e confira o tipo dele\n"
      ],
      "metadata": {
        "id": "hLyNk_6c1qi5"
      }
    },
    {
      "cell_type": "code",
      "execution_count": null,
      "metadata": {
        "colab": {
          "base_uri": "https://localhost:8080/"
        },
        "id": "rUztjs2M0-Zu",
        "outputId": "b0d0d5fa-2fd2-4cec-e1ae-f56757c9f3bb"
      },
      "outputs": [
        {
          "output_type": "execute_result",
          "data": {
            "text/plain": [
              "int"
            ]
          },
          "metadata": {},
          "execution_count": 5
        }
      ],
      "source": [
        "x = 5\n",
        "type(x)\n"
      ]
    },
    {
      "cell_type": "code",
      "source": [
        "x = 5.0\n",
        "type(x)"
      ],
      "metadata": {
        "colab": {
          "base_uri": "https://localhost:8080/"
        },
        "id": "fi7UvbIU1Sob",
        "outputId": "07b79526-4488-46ed-c689-efca037d6570"
      },
      "execution_count": null,
      "outputs": [
        {
          "output_type": "execute_result",
          "data": {
            "text/plain": [
              "float"
            ]
          },
          "metadata": {},
          "execution_count": 2
        }
      ]
    },
    {
      "cell_type": "code",
      "source": [
        "x = (1/2)\n",
        "type(x)"
      ],
      "metadata": {
        "colab": {
          "base_uri": "https://localhost:8080/"
        },
        "id": "Wkm3oKTN1WGC",
        "outputId": "09c6aaff-d9ae-46b0-9776-575aa751d665"
      },
      "execution_count": null,
      "outputs": [
        {
          "output_type": "execute_result",
          "data": {
            "text/plain": [
              "float"
            ]
          },
          "metadata": {},
          "execution_count": 3
        }
      ]
    },
    {
      "cell_type": "code",
      "source": [
        "x = 5.5\n",
        "type(x)"
      ],
      "metadata": {
        "colab": {
          "base_uri": "https://localhost:8080/"
        },
        "id": "yXdXLQOk1XkT",
        "outputId": "dfa60796-0134-461d-8c55-354e780ec4c3"
      },
      "execution_count": null,
      "outputs": [
        {
          "output_type": "execute_result",
          "data": {
            "text/plain": [
              "float"
            ]
          },
          "metadata": {},
          "execution_count": 4
        }
      ]
    },
    {
      "cell_type": "code",
      "source": [
        "x = 'DNC'\n",
        "type(x)"
      ],
      "metadata": {
        "colab": {
          "base_uri": "https://localhost:8080/"
        },
        "id": "byzBKMs01aTm",
        "outputId": "7860fc8d-0a69-4a2f-9b1f-41c907c8bad7"
      },
      "execution_count": null,
      "outputs": [
        {
          "output_type": "execute_result",
          "data": {
            "text/plain": [
              "str"
            ]
          },
          "metadata": {},
          "execution_count": 5
        }
      ]
    },
    {
      "cell_type": "code",
      "source": [
        "x = 0.5 * 2\n",
        "type(x)"
      ],
      "metadata": {
        "colab": {
          "base_uri": "https://localhost:8080/"
        },
        "id": "kN2KeFHT1lHw",
        "outputId": "5bc1d8f9-a295-4c3d-ed4e-5a0c8078a820"
      },
      "execution_count": null,
      "outputs": [
        {
          "output_type": "execute_result",
          "data": {
            "text/plain": [
              "float"
            ]
          },
          "metadata": {},
          "execution_count": 6
        }
      ]
    },
    {
      "cell_type": "code",
      "source": [
        "x = 2 ** 4\n",
        "type(x)"
      ],
      "metadata": {
        "colab": {
          "base_uri": "https://localhost:8080/"
        },
        "id": "afTNh9r03PEK",
        "outputId": "961f5444-d86c-4223-f579-1c2929535ce5"
      },
      "execution_count": null,
      "outputs": [
        {
          "output_type": "execute_result",
          "data": {
            "text/plain": [
              "int"
            ]
          },
          "metadata": {},
          "execution_count": 7
        }
      ]
    },
    {
      "cell_type": "code",
      "source": [
        "x = 2+4\n",
        "type(x)"
      ],
      "metadata": {
        "colab": {
          "base_uri": "https://localhost:8080/"
        },
        "id": "2XSMaUf43WV6",
        "outputId": "19432ae2-0ed3-4126-ccfb-cbd00023366f"
      },
      "execution_count": null,
      "outputs": [
        {
          "output_type": "execute_result",
          "data": {
            "text/plain": [
              "int"
            ]
          },
          "metadata": {},
          "execution_count": 8
        }
      ]
    },
    {
      "cell_type": "code",
      "source": [
        "x = 1000000000\n",
        "type(x)"
      ],
      "metadata": {
        "colab": {
          "base_uri": "https://localhost:8080/"
        },
        "id": "Jg1RCrFV3ZOW",
        "outputId": "0f230d6d-0e2d-4d92-dc28-f21d7997b6af"
      },
      "execution_count": null,
      "outputs": [
        {
          "output_type": "execute_result",
          "data": {
            "text/plain": [
              "int"
            ]
          },
          "metadata": {},
          "execution_count": 9
        }
      ]
    },
    {
      "cell_type": "code",
      "source": [
        "x = int(input('Por favor, digite um  dado inteiro: '))\n",
        "\n",
        "type(x)"
      ],
      "metadata": {
        "colab": {
          "base_uri": "https://localhost:8080/"
        },
        "id": "z0tb1ugD3oXp",
        "outputId": "288f5e54-9065-4c0c-8c44-741764c0b0ce"
      },
      "execution_count": null,
      "outputs": [
        {
          "name": "stdout",
          "output_type": "stream",
          "text": [
            "Por favor, digite um  dado inteiro: 5\n"
          ]
        },
        {
          "output_type": "execute_result",
          "data": {
            "text/plain": [
              "int"
            ]
          },
          "metadata": {},
          "execution_count": 10
        }
      ]
    },
    {
      "cell_type": "code",
      "source": [
        "x = float(input('Por favor, digite um  dado float: '))\n",
        "\n",
        "type(x)"
      ],
      "metadata": {
        "colab": {
          "base_uri": "https://localhost:8080/"
        },
        "id": "knOvMs3a58e1",
        "outputId": "9af365e4-0296-46d4-a395-fe0179135539"
      },
      "execution_count": null,
      "outputs": [
        {
          "name": "stdout",
          "output_type": "stream",
          "text": [
            "Por favor, digite um  dado float: 1.2\n"
          ]
        },
        {
          "output_type": "execute_result",
          "data": {
            "text/plain": [
              "float"
            ]
          },
          "metadata": {},
          "execution_count": 11
        }
      ]
    },
    {
      "cell_type": "code",
      "source": [
        "x = str(input('Por favor, digite um  dado string]: '))\n",
        "\n",
        "type(x)"
      ],
      "metadata": {
        "colab": {
          "base_uri": "https://localhost:8080/"
        },
        "id": "Q41kGTy-59IW",
        "outputId": "1c7b21d8-691e-45ef-fd05-37fc9129fd7c"
      },
      "execution_count": null,
      "outputs": [
        {
          "name": "stdout",
          "output_type": "stream",
          "text": [
            "Por favor, digite um  dado string]: h\n"
          ]
        },
        {
          "output_type": "execute_result",
          "data": {
            "text/plain": [
              "str"
            ]
          },
          "metadata": {},
          "execution_count": 12
        }
      ]
    },
    {
      "cell_type": "code",
      "source": [
        "x = input('Por favor, digite qualquer dado: ')\n",
        "\n",
        "type(x)"
      ],
      "metadata": {
        "colab": {
          "base_uri": "https://localhost:8080/"
        },
        "id": "jHf3VZb-59fh",
        "outputId": "9f408076-d64e-488b-d011-4a62069e26b4"
      },
      "execution_count": null,
      "outputs": [
        {
          "name": "stdout",
          "output_type": "stream",
          "text": [
            "Por favor, digite qualquer dado: 22\n"
          ]
        },
        {
          "output_type": "execute_result",
          "data": {
            "text/plain": [
              "str"
            ]
          },
          "metadata": {},
          "execution_count": 13
        }
      ]
    },
    {
      "cell_type": "markdown",
      "source": [
        "# **Print e Operações**"
      ],
      "metadata": {
        "id": "prUkGmlH6U3c"
      }
    },
    {
      "cell_type": "markdown",
      "source": [
        "**Faça um print de duas linhas tracejadas acima e duas abaixo com 50 linhas em cada uma delas e no meio coloque \"DS06 - DNC\"**"
      ],
      "metadata": {
        "id": "aYCo5OR56aff"
      }
    },
    {
      "cell_type": "code",
      "source": [
        "print(\"-\"*50)\n",
        "print(\"-\"*50)\n",
        "print(\" \"*20, \"DS06 - DNC\",\" \"*20)\n",
        "print(\"-\"*50)\n",
        "print(\"-\"*50)"
      ],
      "metadata": {
        "colab": {
          "base_uri": "https://localhost:8080/"
        },
        "id": "dHz6dlRH6Xoa",
        "outputId": "69872455-6fd3-4fca-aab7-99af54364b6e"
      },
      "execution_count": null,
      "outputs": [
        {
          "output_type": "stream",
          "name": "stdout",
          "text": [
            "--------------------------------------------------\n",
            "--------------------------------------------------\n",
            "                     DS06 - DNC                     \n",
            "--------------------------------------------------\n",
            "--------------------------------------------------\n"
          ]
        }
      ]
    },
    {
      "cell_type": "markdown",
      "source": [
        "Você é um cientista de dados que tem um salário de R$10.000,00 por mês e quer calcular o quanto você terá para guardar na poupança após pagar as contas, faça um print semelhante ao da imagem a seguir:\n",
        "\n",
        "* salario_cientista_de_daods = 10000.00\n",
        "* parcela_bmw = 2500.45\n",
        "* parcela_apartamento = 3500.50\n",
        "* veterinario_romeuzinho = 500.00\n",
        "* luz = 100.80\n",
        "* agua = 80.35\n",
        "* condominio = 800.44\n",
        "* gas = 150.65\n",
        "![Captura de tela 2022-09-28 110548.png](data:image/png;base64,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)\n"
      ],
      "metadata": {
        "id": "rqPqDlQ67ESO"
      }
    },
    {
      "cell_type": "code",
      "source": [
        "salario_cientista_de_dados = 10000.00\n",
        "parcela_bmw = 2500.45\n",
        "veterinario_romeuzinho = 500\n",
        "parcela_apartamento = 3500.50\n",
        "luz = 100.80\n",
        "agua = 80.35\n",
        "condominio = 800.44\n",
        "gas = 150.65\n",
        "poupanca = salario_cientista_de_dados - parcela_bmw - parcela_apartamento - veterinario_romeuzinho - luz - agua - condominio - gas\n",
        "print('*'*100)\n",
        "print('Seu salário é de cientista de dados jr é deR$', salario_cientista_de_dados, 'e seus gastos estão dispostos a seguir','\\nParcela da BWM = ', parcela_bmw, '\\nParcela do apartamento = ', parcela_apartamento, '\\nVeterinario do Romeuzinho = ', veterinario_romeuzinho,'\\nConta de luz = ', luz, '\\nConta de água', agua, '\\nConta de condomínio = ', condominio, '\\nConta de gás = ', gas)\n",
        "print(\"*\"*100)\n",
        "print('O valor disponível para colocar na poupança é de: R$', poupanca)"
      ],
      "metadata": {
        "colab": {
          "base_uri": "https://localhost:8080/"
        },
        "id": "TBjqO3nC7usu",
        "outputId": "15563b10-4457-41ae-f1e4-c4de1500749e"
      },
      "execution_count": null,
      "outputs": [
        {
          "output_type": "stream",
          "name": "stdout",
          "text": [
            "****************************************************************************************************\n",
            "Seu salário é de cientista de dados jr é deR$ 10000.0 e seus gastos estão dispostos a seguir \n",
            "Parcela da BWM =  2500.45 \n",
            "Parcela do apartamento =  3500.5 \n",
            "Veterinario do Romeuzinho =  500 \n",
            "Conta de luz =  100.8 \n",
            "Conta de água 80.35 \n",
            "Conta de condomínio =  800.44 \n",
            "Conta de gás =  150.65\n",
            "****************************************************************************************************\n",
            "O valor disponível para colocar na poupança é de: R$ 2366.81\n"
          ]
        }
      ]
    },
    {
      "cell_type": "markdown",
      "source": [
        "# **Condicionais e operações**"
      ],
      "metadata": {
        "id": "uJuxOO9LSKXI"
      }
    },
    {
      "cell_type": "markdown",
      "source": [
        "Você é um vendedor de cursos e os clientes entram em contato com você para adquirir um dos nossos seguintes cursos:\n",
        "1. Formação em dados\n",
        "2. Formação em projetos\n",
        "3. Formação em marketing\n",
        "4. Formação em produto\n",
        "5. Formação em tecnologia\n",
        "\n",
        "O cliente pode adquirir apenas um curso e os valores estão  apresentados a seguir:\n",
        "1. Formação_em_dados = 20000.00\n",
        "2. Formação_em_projetos = 15000.00\n",
        "3. Formação_em_marketing = 13000.00\n",
        "4. Formação_em_produto = 18000.00\n",
        "5. Formação_em_tecnologia = 19000.00\n",
        "\n",
        "Monte um código onde a primeira pergunta será \"Qual curso você quer escolher (1 = Formação_em_dados, 2 = Formação_em_projetos, 3 = Formação_em_marketing, 4= Formação_em_produto, 5 = Formação_em_tecnologia)?\" E de acordo com a escolha, ele entre em um if e emita a seguinte mensagem padrão \"Você escolheu o curso Formação em XXXXX no valor de R$ valor que começará no próximo mês\". Caso o usuário digite um valor diferente dos dispostos, emita a seguinte mensagem \"Digite um valor correspondente a um curso de nossas formações \\n1-Formação em dados \\n2-Formação em projetos\\n3-Formação em marketing\\n4-Formação em produto\\n5-Formação em tecnologia\"\n"
      ],
      "metadata": {
        "id": "AT5L-rapSc_L"
      }
    },
    {
      "cell_type": "code",
      "source": [
        "Formação_em_dados = 20000.00\n",
        "Formação_em_projetos = 15000.00\n",
        "Formação_em_marketing = 13000.00\n",
        "Formação_em_produto = 18000.00\n",
        "Formação_em_tecnologia = 19000.00\n",
        "\n",
        "curso_escolhido = int(input('Qual curso você quer escolher (1, 2, 3, 4, 5)? \\n\\n1-Formação_em_dados = 20000.00\\n2-Formação_em_projetos = 15000.00\\n3-Formação_em_marketing = 13000.00\\n4-Formação_em_produto = 18000.00\\n5-Formação_em_tecnologia = 19000.00\\n\\n'))\n",
        "\n",
        "if curso_escolhido == 1:\n",
        "  print('Você escolheu o curso Formação em dados no valor de R$ {} que começará no próximo mês'.format(Formação_em_dados))\n",
        "\n",
        "elif curso_escolhido == 2:\n",
        "  print('Você escolheu o curso Formação em projetos no valor de R$ {} que começará no próximo mês'.format(Formação_em_projetos))\n",
        "\n",
        "elif curso_escolhido == 3:\n",
        "  print('Você escolheu o curso Formação em marketing no valor de R$ {} que começará no próximo mês'.format(Formação_em_marketing))\n",
        "\n",
        "elif curso_escolhido == 4:\n",
        "  print('Você escolheu o curso Formação em produtos no valor de R$ {} que começará no próximo mês'.format(Formação_em_produto))\n",
        "\n",
        "elif curso_escolhido == 5:\n",
        "  print('Você escolheu o curso Formação em tecnologia no valor de R$ {} que começará no próximo mês'.format(Formação_em_tecnologia))\n",
        "\n",
        "else:\n",
        "  print('Digite um valor correspondente a um curso de nossas formações \\n1-Formação em dados \\n2-Formação em projetos\\n3-Formação em marketing\\n4-Formação em produto\\n5-Formação em tecnologia')"
      ],
      "metadata": {
        "colab": {
          "base_uri": "https://localhost:8080/"
        },
        "id": "80XnP2fh99bD",
        "outputId": "13412905-990e-4ca9-c265-9ca5c7503345"
      },
      "execution_count": null,
      "outputs": [
        {
          "output_type": "stream",
          "name": "stdout",
          "text": [
            "Qual curso você quer escolher (1, 2, 3, 4, 5)? \n",
            "\n",
            "1-Formação_em_dados = 20000.00\n",
            "2-Formação_em_projetos = 15000.00\n",
            "3-Formação_em_marketing = 13000.00\n",
            "4-Formação_em_produto = 18000.00\n",
            "5-Formação_em_tecnologia = 19000.00\n",
            "\n",
            "1\n",
            "Você escolheu o curso Formação em dados no valor de R$ 20000.0 que começará no próximo mês\n"
          ]
        }
      ]
    },
    {
      "cell_type": "markdown",
      "source": [
        "A DNC pretende faturar 2 milhões em 1 mês. Faça a leitura da quantidade de vendas de cada formação e calcule a receita total de vendas, a receita media geral e verifique se eles bateram a meta mensal utilizando as seguintes mensagens\n",
        "Se bateram: \"Parabéns!!! A DNC bateu a meta do mês\"\n",
        "Se não bateram: \"Esse mês não batemos a meta, porém mês que vem vamos vir mais forte pra recuperar!!!\"\n",
        "\n",
        "\n",
        "(Utilize as informações de preço do exercício acima)"
      ],
      "metadata": {
        "id": "fUBHsvXhYfs3"
      }
    },
    {
      "cell_type": "code",
      "source": [
        "total_Formação_em_dados = int(input('Quantas vendas tivemos na formação em dados?  '))\n",
        "total_Formação_em_projetos = int(input('Quantas vendas tivemos na formação em projetos?  '))\n",
        "total_Formação_em_marketing = int(input('Quantas vendas tivemos na formação em marketing?  '))\n",
        "total_Formação_em_produto = int(input('Quantas vendas tivemos na formação em produto?  '))\n",
        "total_Formação_em_tecnologia = int(input('Quantas vendas tivemos na formação em tecnologia?  '))\n",
        "\n"
      ],
      "metadata": {
        "id": "yTgRDxlgYcgz",
        "colab": {
          "base_uri": "https://localhost:8080/"
        },
        "outputId": "1ad3939b-453b-4a50-d776-7c48dd21c225"
      },
      "execution_count": null,
      "outputs": [
        {
          "name": "stdout",
          "output_type": "stream",
          "text": [
            "Quantas vendas tivemos na formação em dados?  2\n",
            "Quantas vendas tivemos na formação em projetos?  3\n",
            "Quantas vendas tivemos na formação em marketing?  4\n",
            "Quantas vendas tivemos na formação em produto?  5\n",
            "Quantas vendas tivemos na formação em tecnologia?  6\n"
          ]
        }
      ]
    },
    {
      "cell_type": "code",
      "source": [
        "receita_total = total_Formação_em_dados * Formação_em_dados + total_Formação_em_projetos * Formação_em_projetos + total_Formação_em_marketing * Formação_em_marketing  + total_Formação_em_produto * Formação_em_produto + total_Formação_em_tecnologia * Formação_em_tecnologia\n",
        "receita_total"
      ],
      "metadata": {
        "colab": {
          "base_uri": "https://localhost:8080/"
        },
        "id": "qxZccEbjZwsC",
        "outputId": "fcfefcff-f406-4da4-9dca-6f13bf48e780"
      },
      "execution_count": null,
      "outputs": [
        {
          "output_type": "execute_result",
          "data": {
            "text/plain": [
              "341000.0"
            ]
          },
          "metadata": {},
          "execution_count": 4
        }
      ]
    },
    {
      "cell_type": "code",
      "source": [
        "receita_media = receita_total / 5\n",
        "receita_media"
      ],
      "metadata": {
        "id": "clliWSxUZycT",
        "colab": {
          "base_uri": "https://localhost:8080/"
        },
        "outputId": "a9f7a18e-1bd8-4f4e-b040-63df5bb762fd"
      },
      "execution_count": null,
      "outputs": [
        {
          "output_type": "execute_result",
          "data": {
            "text/plain": [
              "68200.0"
            ]
          },
          "metadata": {},
          "execution_count": 5
        }
      ]
    },
    {
      "cell_type": "code",
      "source": [
        "if receita_total > 1000000:\n",
        "  print('='*50)\n",
        "  print('A receita total foi de R$', receita_total)\n",
        "  print('='*50)\n",
        "  print('A receita média foi de R$', receita_media)\n",
        "  print('='*50)\n",
        "  print('Parabéns!!! A DNC bateu a meta do mês')\n",
        "  print('='*50)\n",
        "\n",
        "else:\n",
        "  print('='*100)\n",
        "  print('A receita total foi de R$', receita_total)\n",
        "  print('='*100)\n",
        "  print('A receita média foi de R$', receita_media)\n",
        "  print('='*100)\n",
        "  print('Esse mês não batemos a meta, porém mês que vem vamos vir mais forte para recuperar!!!')\n",
        "  print('='*100)"
      ],
      "metadata": {
        "colab": {
          "base_uri": "https://localhost:8080/"
        },
        "id": "AwV257blaXYz",
        "outputId": "0b2cacfa-084e-4ba5-ebd1-7228703ec089"
      },
      "execution_count": null,
      "outputs": [
        {
          "output_type": "stream",
          "name": "stdout",
          "text": [
            "====================================================================================================\n",
            "A receita total foi de R$ 341000.0\n",
            "====================================================================================================\n",
            "A receita média foi de R$ 68200.0\n",
            "====================================================================================================\n",
            "Esse mês não batemos a meta, porém mês que vem vamos vir mais forte para recuperar!!!\n",
            "====================================================================================================\n"
          ]
        }
      ]
    },
    {
      "cell_type": "markdown",
      "source": [
        "# **Estruturas de repetições**"
      ],
      "metadata": {
        "id": "FzQ2Uc0ScsnT"
      }
    },
    {
      "cell_type": "markdown",
      "source": [
        "O aluno da DNC precisa fazer um programa onde ele some uma sequencia de números, ele precisa informar em qual número (contador) a soma terá que parar. Monte uma estrutura de repetição onde ele satisfaça esse problema."
      ],
      "metadata": {
        "id": "T06unGQLc2tw"
      }
    },
    {
      "cell_type": "code",
      "source": [
        "soma = 0\n",
        "i = 0\n",
        "x = float(input('Digite o termo onde a soma deve parar:  '))\n",
        "\n",
        "while i <= x:\n",
        "  soma = soma + i\n",
        "  i +=1\n",
        "print(\"=\"*50)\n",
        "print('Seu código foi finalizado e o valor da soma é: ', soma)\n",
        "print(\"=\"*50)"
      ],
      "metadata": {
        "colab": {
          "base_uri": "https://localhost:8080/"
        },
        "id": "pq-8xTLIfpmR",
        "outputId": "d87e98dc-9078-4294-9e1d-7c77608f1611"
      },
      "execution_count": null,
      "outputs": [
        {
          "output_type": "stream",
          "name": "stdout",
          "text": [
            "Digite o termo onde a soma deve parar:  5\n",
            "==================================================\n",
            "Seu código foi finalizado e o valor da soma é:  15\n",
            "==================================================\n"
          ]
        }
      ]
    },
    {
      "cell_type": "markdown",
      "source": [
        "O aluno da DNC está no spotify e percebeu que poderia criar um código para demonstrar como o spotify troca de música. Faça uma estrutura de repetição que quando digita-se 'p' o código emitirá uma mensagem \"Próxima música\" e qualquer outra letra ou número o código emitirá uma mensagem \"Fechando o app\" \"Até a próxima\""
      ],
      "metadata": {
        "id": "9ZUlhsc8igj3"
      }
    },
    {
      "cell_type": "code",
      "source": [
        "x = 'p'\n",
        "\n",
        "while x == 'p':\n",
        "  x = input('p para passar e qualquer outra letra/numero para fechar: ')\n",
        "  if x == 'p':\n",
        "    print('próxima música')\n",
        "  else:\n",
        "    print('fechando o app')\n",
        "    print('Até a próxima!!')\n",
        "\n"
      ],
      "metadata": {
        "colab": {
          "base_uri": "https://localhost:8080/"
        },
        "id": "oeGrEtVxif0l",
        "outputId": "5b1ca257-d7c0-4986-9c44-523f6f1a812f"
      },
      "execution_count": null,
      "outputs": [
        {
          "output_type": "stream",
          "name": "stdout",
          "text": [
            "p para passar e qualquer outra letra/numero para fechar: p\n",
            "próxima música\n",
            "p para passar e qualquer outra letra/numero para fechar: p\n",
            "próxima música\n",
            "p para passar e qualquer outra letra/numero para fechar: a\n",
            "fechando o app\n",
            "Até a próxima!!\n"
          ]
        }
      ]
    },
    {
      "cell_type": "markdown",
      "source": [
        "O aluno da DNC quer criar um código para dar parabéns para 3 pessoas do seu grupo de projeto, como reconhecimento de seu trabalho duro. Faça uma estrutura de repetição onde seja informado 3 nomes e printado a seguinte mensagem \"Parabéns por toda sua ajuda no projeto, você está sendo essencial para o resultado que estamos atingindo, NOME DA PESSOA\""
      ],
      "metadata": {
        "id": "ruZSqKJukd0C"
      }
    },
    {
      "cell_type": "code",
      "source": [
        "for i in range(0,3):\n",
        "  n = input('Digite o nome da pessoa que quer reconhecer: ')\n",
        "  print('Parabéns por toda sua ajuda no projeto, você está sendo essencial para o resultado que estamos atingindo, ', n)"
      ],
      "metadata": {
        "colab": {
          "base_uri": "https://localhost:8080/"
        },
        "id": "l-_bsnyugXv0",
        "outputId": "ca5b5769-6279-41f1-c20e-ff7453e6eaba"
      },
      "execution_count": null,
      "outputs": [
        {
          "output_type": "stream",
          "name": "stdout",
          "text": [
            "Digite o nome da pessoa que quer reconhecer: Alan\n",
            "Parabéns por toda sua ajuda no projeto, você está sendo essencial para o resultado que estamos atingindo,  Alan\n",
            "Digite o nome da pessoa que quer reconhecer: Jorge\n",
            "Parabéns por toda sua ajuda no projeto, você está sendo essencial para o resultado que estamos atingindo,  Jorge\n",
            "Digite o nome da pessoa que quer reconhecer: Jian\n",
            "Parabéns por toda sua ajuda no projeto, você está sendo essencial para o resultado que estamos atingindo,  Jian\n"
          ]
        }
      ]
    },
    {
      "cell_type": "markdown",
      "source": [
        "# **Tuplas e Listas**"
      ],
      "metadata": {
        "id": "ms8iU8p8nLVm"
      }
    },
    {
      "cell_type": "markdown",
      "source": [
        "Um aluno da DNC tem uma certa quantidade de notas em seu cofrinho e hoje ele decidiu quebrá-lo, com isso ele quer criar um programa que armazene todas as moedas e ao final do processo ele quer saber o valor total e printar as moedas que ele possui na tela. Monte uma estrutura onde seja guardado os valores das notas e imprima a soma delas ao final. Utilize a estrutura de repetição while."
      ],
      "metadata": {
        "id": "fdINVMZEnQkt"
      }
    },
    {
      "cell_type": "code",
      "source": [
        "lista = []\n",
        "x = 1\n",
        "\n",
        "while x != 0:\n",
        "  x = int(input('Informe o valor da notas: '))\n",
        "  if x == 0:\n",
        "    break\n",
        "  lista.append(x)\n",
        "\n",
        "soma = sum(lista)\n",
        "print(\"A lista com os valores das notas está a seguir: \", lista)\n",
        "print('A soma das notas deu R$', soma)\n",
        "  "
      ],
      "metadata": {
        "colab": {
          "base_uri": "https://localhost:8080/"
        },
        "id": "jOBZ434BnPf7",
        "outputId": "f869c024-ed98-4ba0-ec9c-7a2141c07a2d"
      },
      "execution_count": null,
      "outputs": [
        {
          "output_type": "stream",
          "name": "stdout",
          "text": [
            "Informe o valor da notas: 10\n",
            "Informe o valor da notas: 51\n",
            "Informe o valor da notas: 10\n",
            "Informe o valor da notas: 0\n",
            "A lista com os valores das notas está a seguir:  [10, 51, 10]\n",
            "A soma das notas deu R$ 71\n"
          ]
        }
      ]
    },
    {
      "cell_type": "markdown",
      "source": [
        "# **Dicionários**"
      ],
      "metadata": {
        "id": "UhDL-wfVsJ1f"
      }
    },
    {
      "cell_type": "markdown",
      "source": [
        "O aluno da DNC resolveu criar um dicionário com as informações dos 5 membros de seu grupo, ele precisa inserir o Nome, RID, Idade, Cidade e Cargo no time de projeto. Crie um dicionário que satisfaça isso e print cada chave e valor de cada integrante."
      ],
      "metadata": {
        "id": "vfJSx6QmsfXR"
      }
    },
    {
      "cell_type": "code",
      "source": [
        "grupo_projeto = [{'Nome': 'Alan', 'RID': 12345, 'Idade': 25,'Cidade': 'São José', 'Funcao': 'PO'},\n",
        "{'Nome': 'Erick', 'RID': 54321, 'Idade': 24,'Cidade': 'São José', 'Funcao': 'Scrum Master'},\n",
        "{'Nome': 'Simone', 'RID': 54123, 'Idade': 23,'Cidade': 'São José', 'Funcao': 'Dona de tudo'}]\n",
        "\n",
        "for p in grupo_projeto:\n",
        "    for k, v in p.items():\n",
        "        print(f'Key: {k}, Value: {v}')\n",
        "        print(\"-\"*40)"
      ],
      "metadata": {
        "colab": {
          "base_uri": "https://localhost:8080/"
        },
        "id": "tQOUb3rqsNyH",
        "outputId": "b660f29a-b37d-4838-e1bc-47cf2ed75b94"
      },
      "execution_count": null,
      "outputs": [
        {
          "output_type": "stream",
          "name": "stdout",
          "text": [
            "Key: Nome, Value: Alan\n",
            "----------------------------------------\n",
            "Key: RID, Value: 12345\n",
            "----------------------------------------\n",
            "Key: Idade, Value: 25\n",
            "----------------------------------------\n",
            "Key: Cidade, Value: São José\n",
            "----------------------------------------\n",
            "Key: Funcao, Value: PO\n",
            "----------------------------------------\n",
            "Key: Nome, Value: Erick\n",
            "----------------------------------------\n",
            "Key: RID, Value: 54321\n",
            "----------------------------------------\n",
            "Key: Idade, Value: 24\n",
            "----------------------------------------\n",
            "Key: Cidade, Value: São José\n",
            "----------------------------------------\n",
            "Key: Funcao, Value: Scrum Master\n",
            "----------------------------------------\n",
            "Key: Nome, Value: Simone\n",
            "----------------------------------------\n",
            "Key: RID, Value: 54123\n",
            "----------------------------------------\n",
            "Key: Idade, Value: 23\n",
            "----------------------------------------\n",
            "Key: Cidade, Value: São José\n",
            "----------------------------------------\n",
            "Key: Funcao, Value: Dona de tudo\n",
            "----------------------------------------\n"
          ]
        }
      ]
    },
    {
      "cell_type": "code",
      "source": [
        "\n",
        "dicio = {}\n",
        "lista = []\n",
        "for u in range(0,5):\n",
        "  dicio['Nome'] = input('Digite o nome da pessoa: ')\n",
        "  dicio['RID'] = int(input('Digite o RID dessa pessoas: '))\n",
        "  dicio['Idade'] = int(input('Digite a idade dessa pessoa: '))\n",
        "  dicio['Cidade'] = input('Digite a cidade dessa pessoa: ')\n",
        "  dicio['Cargo Projeto'] = input('Digite 3o cargo no time de projetos: ')\n",
        "  lista.append(dicio.copy())\n",
        "print(lista)\n",
        "print(dicio) \n",
        "\n",
        "for p in lista:\n",
        "    for k, v in p.items():\n",
        "        print(f'Key: {k}, Value: {v}')\n",
        "        print(\"-\"*40)"
      ],
      "metadata": {
        "colab": {
          "base_uri": "https://localhost:8080/"
        },
        "id": "E1_Uo3fpkbxY",
        "outputId": "b8101dff-d758-4fb5-9249-14e9f06da7c3"
      },
      "execution_count": null,
      "outputs": [
        {
          "output_type": "stream",
          "name": "stdout",
          "text": [
            "Digite o nome da pessoa: Alan\n",
            "Digite o RID dessa pessoas: 1232\n",
            "Digite a idade dessa pessoa: 12\n",
            "Digite a cidade dessa pessoa: sjc\n",
            "Digite 3o cargo no time de projetos: scrum amster\n",
            "[{'Nome': 'Alan', 'RID': 1232, 'Idade': 12, 'Cidade': 'sjc', 'Cargo Projeto': 'scrum amster'}]\n",
            "{'Nome': 'Alan', 'RID': 1232, 'Idade': 12, 'Cidade': 'sjc', 'Cargo Projeto': 'scrum amster'}\n",
            "Key: Nome, Value: Alan\n",
            "----------------------------------------\n",
            "Key: RID, Value: 1232\n",
            "----------------------------------------\n",
            "Key: Idade, Value: 12\n",
            "----------------------------------------\n",
            "Key: Cidade, Value: sjc\n",
            "----------------------------------------\n",
            "Key: Cargo Projeto, Value: scrum amster\n",
            "----------------------------------------\n"
          ]
        }
      ]
    },
    {
      "cell_type": "markdown",
      "source": [
        "# **Funções**"
      ],
      "metadata": {
        "id": "hxpE2G6Kv0aY"
      }
    },
    {
      "cell_type": "markdown",
      "source": [
        "Crie uma função onde sempre que ela é chamada ela some todas as notas (dinheiro) que você inserir na função."
      ],
      "metadata": {
        "id": "lDNN0z0-v8Kb"
      }
    },
    {
      "cell_type": "code",
      "source": [
        "def soma_notas(l):\n",
        "  total = 0\n",
        "  for val in l:\n",
        "    total = total + val\n",
        "  return total"
      ],
      "metadata": {
        "id": "pbydPbHDwRj4"
      },
      "execution_count": null,
      "outputs": []
    },
    {
      "cell_type": "code",
      "source": [
        "lista = []\n",
        "x = 1\n",
        "\n",
        "while x != 0:\n",
        "  x = int(input('Informe o valor da notas: '))\n",
        "  if x == 0:\n",
        "    break\n",
        "  lista.append(x)\n",
        "\n",
        "print(\"A soma total é :\", soma_notas(lista))"
      ],
      "metadata": {
        "colab": {
          "base_uri": "https://localhost:8080/"
        },
        "id": "L8aO95trgig-",
        "outputId": "5649f675-769c-471a-c4e9-4d8a8ae323d0"
      },
      "execution_count": null,
      "outputs": [
        {
          "output_type": "stream",
          "name": "stdout",
          "text": [
            "Informe o valor da notas: 25\n",
            "Informe o valor da notas: 50\n",
            "Informe o valor da notas: 100\n",
            "Informe o valor da notas: 0\n",
            "A soma total é : 175\n"
          ]
        }
      ]
    }
  ]
}